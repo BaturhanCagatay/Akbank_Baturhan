{
  "nbformat": 4,
  "nbformat_minor": 0,
  "metadata": {
    "colab": {
      "provenance": [],
      "authorship_tag": "ABX9TyN4NvHMLmgdlZCofx8xE7NJ",
      "include_colab_link": true
    },
    "kernelspec": {
      "name": "python3",
      "display_name": "Python 3"
    },
    "language_info": {
      "name": "python"
    }
  },
  "cells": [
    {
      "cell_type": "markdown",
      "metadata": {
        "id": "view-in-github",
        "colab_type": "text"
      },
      "source": [
        "<a href=\"https://colab.research.google.com/github/BaturhanCagatay/deneme123/blob/main/Project_Akbank.ipynb\" target=\"_parent\"><img src=\"https://colab.research.google.com/assets/colab-badge.svg\" alt=\"Open In Colab\"/></a>"
      ]
    },
    {
      "cell_type": "code",
      "execution_count": 18,
      "metadata": {
        "colab": {
          "base_uri": "https://localhost:8080/"
        },
        "id": "wlNTjwXApzMz",
        "outputId": "3cf6f77e-8a9a-4231-d17b-0e594503cad1"
      },
      "outputs": [
        {
          "output_type": "stream",
          "name": "stdout",
          "text": [
            "Drive already mounted at /content/drive; to attempt to forcibly remount, call drive.mount(\"/content/drive\", force_remount=True).\n"
          ]
        }
      ],
      "source": [
        "from google.colab import drive\n",
        "drive.mount('/content/drive')"
      ]
    },
    {
      "cell_type": "code",
      "source": [
        "import pandas as pd\n",
        "import numpy as np\n",
        "\n",
        "url = \"/content/drive/My Drive/Melbourne_housing_FULL.csv\"\n",
        "\n",
        "data = pd.read_csv(url)\n",
        "\n",
        "print(data.head())\n"
      ],
      "metadata": {
        "colab": {
          "base_uri": "https://localhost:8080/"
        },
        "id": "sEWdN2k8rQGZ",
        "outputId": "915a83fe-b9f6-4d22-a3f1-b84b106bb5dc"
      },
      "execution_count": null,
      "outputs": [
        {
          "output_type": "stream",
          "name": "stdout",
          "text": [
            "       Suburb             Address  Rooms Type      Price Method SellerG  \\\n",
            "0  Abbotsford       68 Studley St      2    h        NaN     SS  Jellis   \n",
            "1  Abbotsford        85 Turner St      2    h  1480000.0      S  Biggin   \n",
            "2  Abbotsford     25 Bloomburg St      2    h  1035000.0      S  Biggin   \n",
            "3  Abbotsford  18/659 Victoria St      3    u        NaN     VB  Rounds   \n",
            "4  Abbotsford        5 Charles St      3    h  1465000.0     SP  Biggin   \n",
            "\n",
            "        Date  Distance  Postcode  ...  Bathroom  Car  Landsize  BuildingArea  \\\n",
            "0  3/09/2016       2.5    3067.0  ...       1.0  1.0     126.0           NaN   \n",
            "1  3/12/2016       2.5    3067.0  ...       1.0  1.0     202.0           NaN   \n",
            "2  4/02/2016       2.5    3067.0  ...       1.0  0.0     156.0          79.0   \n",
            "3  4/02/2016       2.5    3067.0  ...       2.0  1.0       0.0           NaN   \n",
            "4  4/03/2017       2.5    3067.0  ...       2.0  0.0     134.0         150.0   \n",
            "\n",
            "   YearBuilt         CouncilArea Lattitude  Longtitude             Regionname  \\\n",
            "0        NaN  Yarra City Council  -37.8014    144.9958  Northern Metropolitan   \n",
            "1        NaN  Yarra City Council  -37.7996    144.9984  Northern Metropolitan   \n",
            "2     1900.0  Yarra City Council  -37.8079    144.9934  Northern Metropolitan   \n",
            "3        NaN  Yarra City Council  -37.8114    145.0116  Northern Metropolitan   \n",
            "4     1900.0  Yarra City Council  -37.8093    144.9944  Northern Metropolitan   \n",
            "\n",
            "  Propertycount  \n",
            "0        4019.0  \n",
            "1        4019.0  \n",
            "2        4019.0  \n",
            "3        4019.0  \n",
            "4        4019.0  \n",
            "\n",
            "[5 rows x 21 columns]\n"
          ]
        }
      ]
    },
    {
      "cell_type": "code",
      "source": [
        "data_copy=data.copy()  # A copy of the data was created in case we need to go back to the main data."
      ],
      "metadata": {
        "id": "5lnSm3aMsnrU"
      },
      "execution_count": null,
      "outputs": []
    },
    {
      "cell_type": "code",
      "source": [
        "print(data_copy.head())"
      ],
      "metadata": {
        "colab": {
          "base_uri": "https://localhost:8080/"
        },
        "id": "U_9NtbJUsvKg",
        "outputId": "e05a0a38-46f2-4c22-80ce-0dad4d133f6b"
      },
      "execution_count": null,
      "outputs": [
        {
          "output_type": "stream",
          "name": "stdout",
          "text": [
            "       Suburb             Address  Rooms Type      Price Method SellerG  \\\n",
            "0  Abbotsford       68 Studley St      2    h        NaN     SS  Jellis   \n",
            "1  Abbotsford        85 Turner St      2    h  1480000.0      S  Biggin   \n",
            "2  Abbotsford     25 Bloomburg St      2    h  1035000.0      S  Biggin   \n",
            "3  Abbotsford  18/659 Victoria St      3    u        NaN     VB  Rounds   \n",
            "4  Abbotsford        5 Charles St      3    h  1465000.0     SP  Biggin   \n",
            "\n",
            "        Date  Distance  Postcode  ...  Bathroom  Car  Landsize  BuildingArea  \\\n",
            "0  3/09/2016       2.5    3067.0  ...       1.0  1.0     126.0           NaN   \n",
            "1  3/12/2016       2.5    3067.0  ...       1.0  1.0     202.0           NaN   \n",
            "2  4/02/2016       2.5    3067.0  ...       1.0  0.0     156.0          79.0   \n",
            "3  4/02/2016       2.5    3067.0  ...       2.0  1.0       0.0           NaN   \n",
            "4  4/03/2017       2.5    3067.0  ...       2.0  0.0     134.0         150.0   \n",
            "\n",
            "   YearBuilt         CouncilArea Lattitude  Longtitude             Regionname  \\\n",
            "0        NaN  Yarra City Council  -37.8014    144.9958  Northern Metropolitan   \n",
            "1        NaN  Yarra City Council  -37.7996    144.9984  Northern Metropolitan   \n",
            "2     1900.0  Yarra City Council  -37.8079    144.9934  Northern Metropolitan   \n",
            "3        NaN  Yarra City Council  -37.8114    145.0116  Northern Metropolitan   \n",
            "4     1900.0  Yarra City Council  -37.8093    144.9944  Northern Metropolitan   \n",
            "\n",
            "  Propertycount  \n",
            "0        4019.0  \n",
            "1        4019.0  \n",
            "2        4019.0  \n",
            "3        4019.0  \n",
            "4        4019.0  \n",
            "\n",
            "[5 rows x 21 columns]\n"
          ]
        }
      ]
    },
    {
      "cell_type": "code",
      "source": [
        "print(data_copy.shape)\n",
        "print(data_copy.size)\n",
        "print(data_copy.ndim)\n"
      ],
      "metadata": {
        "colab": {
          "base_uri": "https://localhost:8080/"
        },
        "id": "outr5K_ctvTT",
        "outputId": "98bd33cd-7c1d-4b0e-9c5c-f6949bcefe5b"
      },
      "execution_count": null,
      "outputs": [
        {
          "output_type": "stream",
          "name": "stdout",
          "text": [
            "(34857, 21)\n",
            "731997\n",
            "2\n"
          ]
        }
      ]
    },
    {
      "cell_type": "code",
      "source": [
        "data_copy.isnull().sum()"
      ],
      "metadata": {
        "id": "uIMfSPyIuaLH",
        "colab": {
          "base_uri": "https://localhost:8080/"
        },
        "outputId": "ef7b7b40-3d06-48fb-f696-3453bd099553"
      },
      "execution_count": 20,
      "outputs": [
        {
          "output_type": "execute_result",
          "data": {
            "text/plain": [
              "Suburb               0\n",
              "Address              0\n",
              "Rooms                0\n",
              "Type                 0\n",
              "Price             7610\n",
              "Method               0\n",
              "SellerG              0\n",
              "Date                 0\n",
              "Distance             1\n",
              "Postcode             1\n",
              "Bedroom2          8217\n",
              "Bathroom          8226\n",
              "Car               8728\n",
              "Landsize         11810\n",
              "BuildingArea     21115\n",
              "YearBuilt        19306\n",
              "CouncilArea          3\n",
              "Lattitude         7976\n",
              "Longtitude        7976\n",
              "Regionname           3\n",
              "Propertycount        3\n",
              "dtype: int64"
            ]
          },
          "metadata": {},
          "execution_count": 20
        }
      ]
    },
    {
      "cell_type": "code",
      "source": [
        "data_copy.duplicated().sum()"
      ],
      "metadata": {
        "colab": {
          "base_uri": "https://localhost:8080/"
        },
        "id": "Kvv51VEWuohX",
        "outputId": "ca1b9130-aa1d-4f11-a2bd-94cb2e134131"
      },
      "execution_count": 21,
      "outputs": [
        {
          "output_type": "execute_result",
          "data": {
            "text/plain": [
              "1"
            ]
          },
          "metadata": {},
          "execution_count": 21
        }
      ]
    },
    {
      "cell_type": "code",
      "source": [
        "data_copy.describe().T"
      ],
      "metadata": {
        "colab": {
          "base_uri": "https://localhost:8080/",
          "height": 457
        },
        "id": "EgVjC9_ou4qA",
        "outputId": "9af6e6ad-4804-406c-950a-401f49d12d36"
      },
      "execution_count": 22,
      "outputs": [
        {
          "output_type": "execute_result",
          "data": {
            "text/plain": [
              "                 count          mean            std          min  \\\n",
              "Rooms          34857.0  3.031012e+00       0.969933      1.00000   \n",
              "Price          27247.0  1.050173e+06  641467.130105  85000.00000   \n",
              "Distance       34856.0  1.118493e+01       6.788892      0.00000   \n",
              "Postcode       34856.0  3.116063e+03     109.023903   3000.00000   \n",
              "Bedroom2       26640.0  3.084647e+00       0.980690      0.00000   \n",
              "Bathroom       26631.0  1.624798e+00       0.724212      0.00000   \n",
              "Car            26129.0  1.728845e+00       1.010771      0.00000   \n",
              "Landsize       23047.0  5.935990e+02    3398.841946      0.00000   \n",
              "BuildingArea   13742.0  1.602564e+02     401.267060      0.00000   \n",
              "YearBuilt      15551.0  1.965290e+03      37.328178   1196.00000   \n",
              "Lattitude      26881.0 -3.781063e+01       0.090279    -38.19043   \n",
              "Longtitude     26881.0  1.450019e+02       0.120169    144.42379   \n",
              "Propertycount  34854.0  7.572888e+03    4428.090313     83.00000   \n",
              "\n",
              "                        25%          50%           75%           max  \n",
              "Rooms               2.00000       3.0000  4.000000e+00  1.600000e+01  \n",
              "Price          635000.00000  870000.0000  1.295000e+06  1.120000e+07  \n",
              "Distance            6.40000      10.3000  1.400000e+01  4.810000e+01  \n",
              "Postcode         3051.00000    3103.0000  3.156000e+03  3.978000e+03  \n",
              "Bedroom2            2.00000       3.0000  4.000000e+00  3.000000e+01  \n",
              "Bathroom            1.00000       2.0000  2.000000e+00  1.200000e+01  \n",
              "Car                 1.00000       2.0000  2.000000e+00  2.600000e+01  \n",
              "Landsize          224.00000     521.0000  6.700000e+02  4.330140e+05  \n",
              "BuildingArea      102.00000     136.0000  1.880000e+02  4.451500e+04  \n",
              "YearBuilt        1940.00000    1970.0000  2.000000e+03  2.106000e+03  \n",
              "Lattitude         -37.86295     -37.8076 -3.775410e+01 -3.739020e+01  \n",
              "Longtitude        144.93350     145.0078  1.450719e+02  1.455264e+02  \n",
              "Propertycount    4385.00000    6763.0000  1.041200e+04  2.165000e+04  "
            ],
            "text/html": [
              "\n",
              "  <div id=\"df-999317bf-726a-4340-8d24-719ba36af7e5\" class=\"colab-df-container\">\n",
              "    <div>\n",
              "<style scoped>\n",
              "    .dataframe tbody tr th:only-of-type {\n",
              "        vertical-align: middle;\n",
              "    }\n",
              "\n",
              "    .dataframe tbody tr th {\n",
              "        vertical-align: top;\n",
              "    }\n",
              "\n",
              "    .dataframe thead th {\n",
              "        text-align: right;\n",
              "    }\n",
              "</style>\n",
              "<table border=\"1\" class=\"dataframe\">\n",
              "  <thead>\n",
              "    <tr style=\"text-align: right;\">\n",
              "      <th></th>\n",
              "      <th>count</th>\n",
              "      <th>mean</th>\n",
              "      <th>std</th>\n",
              "      <th>min</th>\n",
              "      <th>25%</th>\n",
              "      <th>50%</th>\n",
              "      <th>75%</th>\n",
              "      <th>max</th>\n",
              "    </tr>\n",
              "  </thead>\n",
              "  <tbody>\n",
              "    <tr>\n",
              "      <th>Rooms</th>\n",
              "      <td>34857.0</td>\n",
              "      <td>3.031012e+00</td>\n",
              "      <td>0.969933</td>\n",
              "      <td>1.00000</td>\n",
              "      <td>2.00000</td>\n",
              "      <td>3.0000</td>\n",
              "      <td>4.000000e+00</td>\n",
              "      <td>1.600000e+01</td>\n",
              "    </tr>\n",
              "    <tr>\n",
              "      <th>Price</th>\n",
              "      <td>27247.0</td>\n",
              "      <td>1.050173e+06</td>\n",
              "      <td>641467.130105</td>\n",
              "      <td>85000.00000</td>\n",
              "      <td>635000.00000</td>\n",
              "      <td>870000.0000</td>\n",
              "      <td>1.295000e+06</td>\n",
              "      <td>1.120000e+07</td>\n",
              "    </tr>\n",
              "    <tr>\n",
              "      <th>Distance</th>\n",
              "      <td>34856.0</td>\n",
              "      <td>1.118493e+01</td>\n",
              "      <td>6.788892</td>\n",
              "      <td>0.00000</td>\n",
              "      <td>6.40000</td>\n",
              "      <td>10.3000</td>\n",
              "      <td>1.400000e+01</td>\n",
              "      <td>4.810000e+01</td>\n",
              "    </tr>\n",
              "    <tr>\n",
              "      <th>Postcode</th>\n",
              "      <td>34856.0</td>\n",
              "      <td>3.116063e+03</td>\n",
              "      <td>109.023903</td>\n",
              "      <td>3000.00000</td>\n",
              "      <td>3051.00000</td>\n",
              "      <td>3103.0000</td>\n",
              "      <td>3.156000e+03</td>\n",
              "      <td>3.978000e+03</td>\n",
              "    </tr>\n",
              "    <tr>\n",
              "      <th>Bedroom2</th>\n",
              "      <td>26640.0</td>\n",
              "      <td>3.084647e+00</td>\n",
              "      <td>0.980690</td>\n",
              "      <td>0.00000</td>\n",
              "      <td>2.00000</td>\n",
              "      <td>3.0000</td>\n",
              "      <td>4.000000e+00</td>\n",
              "      <td>3.000000e+01</td>\n",
              "    </tr>\n",
              "    <tr>\n",
              "      <th>Bathroom</th>\n",
              "      <td>26631.0</td>\n",
              "      <td>1.624798e+00</td>\n",
              "      <td>0.724212</td>\n",
              "      <td>0.00000</td>\n",
              "      <td>1.00000</td>\n",
              "      <td>2.0000</td>\n",
              "      <td>2.000000e+00</td>\n",
              "      <td>1.200000e+01</td>\n",
              "    </tr>\n",
              "    <tr>\n",
              "      <th>Car</th>\n",
              "      <td>26129.0</td>\n",
              "      <td>1.728845e+00</td>\n",
              "      <td>1.010771</td>\n",
              "      <td>0.00000</td>\n",
              "      <td>1.00000</td>\n",
              "      <td>2.0000</td>\n",
              "      <td>2.000000e+00</td>\n",
              "      <td>2.600000e+01</td>\n",
              "    </tr>\n",
              "    <tr>\n",
              "      <th>Landsize</th>\n",
              "      <td>23047.0</td>\n",
              "      <td>5.935990e+02</td>\n",
              "      <td>3398.841946</td>\n",
              "      <td>0.00000</td>\n",
              "      <td>224.00000</td>\n",
              "      <td>521.0000</td>\n",
              "      <td>6.700000e+02</td>\n",
              "      <td>4.330140e+05</td>\n",
              "    </tr>\n",
              "    <tr>\n",
              "      <th>BuildingArea</th>\n",
              "      <td>13742.0</td>\n",
              "      <td>1.602564e+02</td>\n",
              "      <td>401.267060</td>\n",
              "      <td>0.00000</td>\n",
              "      <td>102.00000</td>\n",
              "      <td>136.0000</td>\n",
              "      <td>1.880000e+02</td>\n",
              "      <td>4.451500e+04</td>\n",
              "    </tr>\n",
              "    <tr>\n",
              "      <th>YearBuilt</th>\n",
              "      <td>15551.0</td>\n",
              "      <td>1.965290e+03</td>\n",
              "      <td>37.328178</td>\n",
              "      <td>1196.00000</td>\n",
              "      <td>1940.00000</td>\n",
              "      <td>1970.0000</td>\n",
              "      <td>2.000000e+03</td>\n",
              "      <td>2.106000e+03</td>\n",
              "    </tr>\n",
              "    <tr>\n",
              "      <th>Lattitude</th>\n",
              "      <td>26881.0</td>\n",
              "      <td>-3.781063e+01</td>\n",
              "      <td>0.090279</td>\n",
              "      <td>-38.19043</td>\n",
              "      <td>-37.86295</td>\n",
              "      <td>-37.8076</td>\n",
              "      <td>-3.775410e+01</td>\n",
              "      <td>-3.739020e+01</td>\n",
              "    </tr>\n",
              "    <tr>\n",
              "      <th>Longtitude</th>\n",
              "      <td>26881.0</td>\n",
              "      <td>1.450019e+02</td>\n",
              "      <td>0.120169</td>\n",
              "      <td>144.42379</td>\n",
              "      <td>144.93350</td>\n",
              "      <td>145.0078</td>\n",
              "      <td>1.450719e+02</td>\n",
              "      <td>1.455264e+02</td>\n",
              "    </tr>\n",
              "    <tr>\n",
              "      <th>Propertycount</th>\n",
              "      <td>34854.0</td>\n",
              "      <td>7.572888e+03</td>\n",
              "      <td>4428.090313</td>\n",
              "      <td>83.00000</td>\n",
              "      <td>4385.00000</td>\n",
              "      <td>6763.0000</td>\n",
              "      <td>1.041200e+04</td>\n",
              "      <td>2.165000e+04</td>\n",
              "    </tr>\n",
              "  </tbody>\n",
              "</table>\n",
              "</div>\n",
              "    <div class=\"colab-df-buttons\">\n",
              "\n",
              "  <div class=\"colab-df-container\">\n",
              "    <button class=\"colab-df-convert\" onclick=\"convertToInteractive('df-999317bf-726a-4340-8d24-719ba36af7e5')\"\n",
              "            title=\"Convert this dataframe to an interactive table.\"\n",
              "            style=\"display:none;\">\n",
              "\n",
              "  <svg xmlns=\"http://www.w3.org/2000/svg\" height=\"24px\" viewBox=\"0 -960 960 960\">\n",
              "    <path d=\"M120-120v-720h720v720H120Zm60-500h600v-160H180v160Zm220 220h160v-160H400v160Zm0 220h160v-160H400v160ZM180-400h160v-160H180v160Zm440 0h160v-160H620v160ZM180-180h160v-160H180v160Zm440 0h160v-160H620v160Z\"/>\n",
              "  </svg>\n",
              "    </button>\n",
              "\n",
              "  <style>\n",
              "    .colab-df-container {\n",
              "      display:flex;\n",
              "      gap: 12px;\n",
              "    }\n",
              "\n",
              "    .colab-df-convert {\n",
              "      background-color: #E8F0FE;\n",
              "      border: none;\n",
              "      border-radius: 50%;\n",
              "      cursor: pointer;\n",
              "      display: none;\n",
              "      fill: #1967D2;\n",
              "      height: 32px;\n",
              "      padding: 0 0 0 0;\n",
              "      width: 32px;\n",
              "    }\n",
              "\n",
              "    .colab-df-convert:hover {\n",
              "      background-color: #E2EBFA;\n",
              "      box-shadow: 0px 1px 2px rgba(60, 64, 67, 0.3), 0px 1px 3px 1px rgba(60, 64, 67, 0.15);\n",
              "      fill: #174EA6;\n",
              "    }\n",
              "\n",
              "    .colab-df-buttons div {\n",
              "      margin-bottom: 4px;\n",
              "    }\n",
              "\n",
              "    [theme=dark] .colab-df-convert {\n",
              "      background-color: #3B4455;\n",
              "      fill: #D2E3FC;\n",
              "    }\n",
              "\n",
              "    [theme=dark] .colab-df-convert:hover {\n",
              "      background-color: #434B5C;\n",
              "      box-shadow: 0px 1px 3px 1px rgba(0, 0, 0, 0.15);\n",
              "      filter: drop-shadow(0px 1px 2px rgba(0, 0, 0, 0.3));\n",
              "      fill: #FFFFFF;\n",
              "    }\n",
              "  </style>\n",
              "\n",
              "    <script>\n",
              "      const buttonEl =\n",
              "        document.querySelector('#df-999317bf-726a-4340-8d24-719ba36af7e5 button.colab-df-convert');\n",
              "      buttonEl.style.display =\n",
              "        google.colab.kernel.accessAllowed ? 'block' : 'none';\n",
              "\n",
              "      async function convertToInteractive(key) {\n",
              "        const element = document.querySelector('#df-999317bf-726a-4340-8d24-719ba36af7e5');\n",
              "        const dataTable =\n",
              "          await google.colab.kernel.invokeFunction('convertToInteractive',\n",
              "                                                    [key], {});\n",
              "        if (!dataTable) return;\n",
              "\n",
              "        const docLinkHtml = 'Like what you see? Visit the ' +\n",
              "          '<a target=\"_blank\" href=https://colab.research.google.com/notebooks/data_table.ipynb>data table notebook</a>'\n",
              "          + ' to learn more about interactive tables.';\n",
              "        element.innerHTML = '';\n",
              "        dataTable['output_type'] = 'display_data';\n",
              "        await google.colab.output.renderOutput(dataTable, element);\n",
              "        const docLink = document.createElement('div');\n",
              "        docLink.innerHTML = docLinkHtml;\n",
              "        element.appendChild(docLink);\n",
              "      }\n",
              "    </script>\n",
              "  </div>\n",
              "\n",
              "\n",
              "<div id=\"df-91102e70-69e4-4f6d-9032-503adf855f82\">\n",
              "  <button class=\"colab-df-quickchart\" onclick=\"quickchart('df-91102e70-69e4-4f6d-9032-503adf855f82')\"\n",
              "            title=\"Suggest charts.\"\n",
              "            style=\"display:none;\">\n",
              "\n",
              "<svg xmlns=\"http://www.w3.org/2000/svg\" height=\"24px\"viewBox=\"0 0 24 24\"\n",
              "     width=\"24px\">\n",
              "    <g>\n",
              "        <path d=\"M19 3H5c-1.1 0-2 .9-2 2v14c0 1.1.9 2 2 2h14c1.1 0 2-.9 2-2V5c0-1.1-.9-2-2-2zM9 17H7v-7h2v7zm4 0h-2V7h2v10zm4 0h-2v-4h2v4z\"/>\n",
              "    </g>\n",
              "</svg>\n",
              "  </button>\n",
              "\n",
              "<style>\n",
              "  .colab-df-quickchart {\n",
              "      --bg-color: #E8F0FE;\n",
              "      --fill-color: #1967D2;\n",
              "      --hover-bg-color: #E2EBFA;\n",
              "      --hover-fill-color: #174EA6;\n",
              "      --disabled-fill-color: #AAA;\n",
              "      --disabled-bg-color: #DDD;\n",
              "  }\n",
              "\n",
              "  [theme=dark] .colab-df-quickchart {\n",
              "      --bg-color: #3B4455;\n",
              "      --fill-color: #D2E3FC;\n",
              "      --hover-bg-color: #434B5C;\n",
              "      --hover-fill-color: #FFFFFF;\n",
              "      --disabled-bg-color: #3B4455;\n",
              "      --disabled-fill-color: #666;\n",
              "  }\n",
              "\n",
              "  .colab-df-quickchart {\n",
              "    background-color: var(--bg-color);\n",
              "    border: none;\n",
              "    border-radius: 50%;\n",
              "    cursor: pointer;\n",
              "    display: none;\n",
              "    fill: var(--fill-color);\n",
              "    height: 32px;\n",
              "    padding: 0;\n",
              "    width: 32px;\n",
              "  }\n",
              "\n",
              "  .colab-df-quickchart:hover {\n",
              "    background-color: var(--hover-bg-color);\n",
              "    box-shadow: 0 1px 2px rgba(60, 64, 67, 0.3), 0 1px 3px 1px rgba(60, 64, 67, 0.15);\n",
              "    fill: var(--button-hover-fill-color);\n",
              "  }\n",
              "\n",
              "  .colab-df-quickchart-complete:disabled,\n",
              "  .colab-df-quickchart-complete:disabled:hover {\n",
              "    background-color: var(--disabled-bg-color);\n",
              "    fill: var(--disabled-fill-color);\n",
              "    box-shadow: none;\n",
              "  }\n",
              "\n",
              "  .colab-df-spinner {\n",
              "    border: 2px solid var(--fill-color);\n",
              "    border-color: transparent;\n",
              "    border-bottom-color: var(--fill-color);\n",
              "    animation:\n",
              "      spin 1s steps(1) infinite;\n",
              "  }\n",
              "\n",
              "  @keyframes spin {\n",
              "    0% {\n",
              "      border-color: transparent;\n",
              "      border-bottom-color: var(--fill-color);\n",
              "      border-left-color: var(--fill-color);\n",
              "    }\n",
              "    20% {\n",
              "      border-color: transparent;\n",
              "      border-left-color: var(--fill-color);\n",
              "      border-top-color: var(--fill-color);\n",
              "    }\n",
              "    30% {\n",
              "      border-color: transparent;\n",
              "      border-left-color: var(--fill-color);\n",
              "      border-top-color: var(--fill-color);\n",
              "      border-right-color: var(--fill-color);\n",
              "    }\n",
              "    40% {\n",
              "      border-color: transparent;\n",
              "      border-right-color: var(--fill-color);\n",
              "      border-top-color: var(--fill-color);\n",
              "    }\n",
              "    60% {\n",
              "      border-color: transparent;\n",
              "      border-right-color: var(--fill-color);\n",
              "    }\n",
              "    80% {\n",
              "      border-color: transparent;\n",
              "      border-right-color: var(--fill-color);\n",
              "      border-bottom-color: var(--fill-color);\n",
              "    }\n",
              "    90% {\n",
              "      border-color: transparent;\n",
              "      border-bottom-color: var(--fill-color);\n",
              "    }\n",
              "  }\n",
              "</style>\n",
              "\n",
              "  <script>\n",
              "    async function quickchart(key) {\n",
              "      const quickchartButtonEl =\n",
              "        document.querySelector('#' + key + ' button');\n",
              "      quickchartButtonEl.disabled = true;  // To prevent multiple clicks.\n",
              "      quickchartButtonEl.classList.add('colab-df-spinner');\n",
              "      try {\n",
              "        const charts = await google.colab.kernel.invokeFunction(\n",
              "            'suggestCharts', [key], {});\n",
              "      } catch (error) {\n",
              "        console.error('Error during call to suggestCharts:', error);\n",
              "      }\n",
              "      quickchartButtonEl.classList.remove('colab-df-spinner');\n",
              "      quickchartButtonEl.classList.add('colab-df-quickchart-complete');\n",
              "    }\n",
              "    (() => {\n",
              "      let quickchartButtonEl =\n",
              "        document.querySelector('#df-91102e70-69e4-4f6d-9032-503adf855f82 button');\n",
              "      quickchartButtonEl.style.display =\n",
              "        google.colab.kernel.accessAllowed ? 'block' : 'none';\n",
              "    })();\n",
              "  </script>\n",
              "</div>\n",
              "    </div>\n",
              "  </div>\n"
            ]
          },
          "metadata": {},
          "execution_count": 22
        }
      ]
    },
    {
      "cell_type": "code",
      "source": [
        "data_copy.nunique()"
      ],
      "metadata": {
        "colab": {
          "base_uri": "https://localhost:8080/"
        },
        "id": "AMldX8nwvAuC",
        "outputId": "aedb9228-5d8f-42ad-8d64-5c9437de2840"
      },
      "execution_count": 24,
      "outputs": [
        {
          "output_type": "execute_result",
          "data": {
            "text/plain": [
              "Suburb             351\n",
              "Address          34009\n",
              "Rooms               12\n",
              "Type                 3\n",
              "Price             2871\n",
              "Method               9\n",
              "SellerG            388\n",
              "Date                78\n",
              "Distance           215\n",
              "Postcode           211\n",
              "Bedroom2            15\n",
              "Bathroom            11\n",
              "Car                 15\n",
              "Landsize          1684\n",
              "BuildingArea       740\n",
              "YearBuilt          160\n",
              "CouncilArea         33\n",
              "Lattitude        13402\n",
              "Longtitude       14524\n",
              "Regionname           8\n",
              "Propertycount      342\n",
              "dtype: int64"
            ]
          },
          "metadata": {},
          "execution_count": 24
        }
      ]
    },
    {
      "cell_type": "code",
      "source": [
        "categorical_variables = data_copy.select_dtypes(include=['object'])\n",
        "numerical_variables = data_copy.select_dtypes(exclude=['object'])\n",
        "\n",
        "print(\"Kategorik Değişkenler:\")\n",
        "print(categorical_variables)\n",
        "\n",
        "print(\"\\nSayısal Değişkenler:\")\n",
        "print(numerical_variables)"
      ],
      "metadata": {
        "colab": {
          "base_uri": "https://localhost:8080/"
        },
        "id": "ZWYWoO8IvEgA",
        "outputId": "a2c128d0-9e6a-4534-d4bc-bb454efb7ace"
      },
      "execution_count": 26,
      "outputs": [
        {
          "output_type": "stream",
          "name": "stdout",
          "text": [
            "Kategorik Değişkenler:\n",
            "           Suburb             Address Type Method        SellerG        Date  \\\n",
            "0      Abbotsford       68 Studley St    h     SS         Jellis   3/09/2016   \n",
            "1      Abbotsford        85 Turner St    h      S         Biggin   3/12/2016   \n",
            "2      Abbotsford     25 Bloomburg St    h      S         Biggin   4/02/2016   \n",
            "3      Abbotsford  18/659 Victoria St    u     VB         Rounds   4/02/2016   \n",
            "4      Abbotsford        5 Charles St    h     SP         Biggin   4/03/2017   \n",
            "...           ...                 ...  ...    ...            ...         ...   \n",
            "34852  Yarraville         13 Burns St    h     PI            Jas  24/02/2018   \n",
            "34853  Yarraville       29A Murray St    h     SP        Sweeney  24/02/2018   \n",
            "34854  Yarraville      147A Severn St    t      S            Jas  24/02/2018   \n",
            "34855  Yarraville    12/37 Stephen St    h     SP  hockingstuart  24/02/2018   \n",
            "34856  Yarraville    3 Tarrengower St    h     PI             RW  24/02/2018   \n",
            "\n",
            "                    CouncilArea             Regionname  \n",
            "0            Yarra City Council  Northern Metropolitan  \n",
            "1            Yarra City Council  Northern Metropolitan  \n",
            "2            Yarra City Council  Northern Metropolitan  \n",
            "3            Yarra City Council  Northern Metropolitan  \n",
            "4            Yarra City Council  Northern Metropolitan  \n",
            "...                         ...                    ...  \n",
            "34852  Maribyrnong City Council   Western Metropolitan  \n",
            "34853  Maribyrnong City Council   Western Metropolitan  \n",
            "34854  Maribyrnong City Council   Western Metropolitan  \n",
            "34855  Maribyrnong City Council   Western Metropolitan  \n",
            "34856  Maribyrnong City Council   Western Metropolitan  \n",
            "\n",
            "[34857 rows x 8 columns]\n",
            "\n",
            "Sayısal Değişkenler:\n",
            "       Rooms      Price  Distance  Postcode  Bedroom2  Bathroom  Car  \\\n",
            "0          2        NaN       2.5    3067.0       2.0       1.0  1.0   \n",
            "1          2  1480000.0       2.5    3067.0       2.0       1.0  1.0   \n",
            "2          2  1035000.0       2.5    3067.0       2.0       1.0  0.0   \n",
            "3          3        NaN       2.5    3067.0       3.0       2.0  1.0   \n",
            "4          3  1465000.0       2.5    3067.0       3.0       2.0  0.0   \n",
            "...      ...        ...       ...       ...       ...       ...  ...   \n",
            "34852      4  1480000.0       6.3    3013.0       4.0       1.0  3.0   \n",
            "34853      2   888000.0       6.3    3013.0       2.0       2.0  1.0   \n",
            "34854      2   705000.0       6.3    3013.0       2.0       1.0  2.0   \n",
            "34855      3  1140000.0       6.3    3013.0       NaN       NaN  NaN   \n",
            "34856      2  1020000.0       6.3    3013.0       2.0       1.0  0.0   \n",
            "\n",
            "       Landsize  BuildingArea  YearBuilt  Lattitude  Longtitude  Propertycount  \n",
            "0         126.0           NaN        NaN  -37.80140   144.99580         4019.0  \n",
            "1         202.0           NaN        NaN  -37.79960   144.99840         4019.0  \n",
            "2         156.0          79.0     1900.0  -37.80790   144.99340         4019.0  \n",
            "3           0.0           NaN        NaN  -37.81140   145.01160         4019.0  \n",
            "4         134.0         150.0     1900.0  -37.80930   144.99440         4019.0  \n",
            "...         ...           ...        ...        ...         ...            ...  \n",
            "34852     593.0           NaN        NaN  -37.81053   144.88467         6543.0  \n",
            "34853      98.0         104.0     2018.0  -37.81551   144.88826         6543.0  \n",
            "34854     220.0         120.0     2000.0  -37.82286   144.87856         6543.0  \n",
            "34855       NaN           NaN        NaN        NaN         NaN         6543.0  \n",
            "34856     250.0         103.0     1930.0  -37.81810   144.89351         6543.0  \n",
            "\n",
            "[34857 rows x 13 columns]\n"
          ]
        }
      ]
    },
    {
      "cell_type": "code",
      "source": [
        "import matplotlib.pyplot as plt\n",
        "oda_gruplama = data_copy.groupby('Rooms')['Price'].mean().reset_index()\n",
        "\n",
        "# Sütun grafiğini çizin\n",
        "plt.figure(figsize=(10, 6))\n",
        "plt.bar(oda_gruplama['Rooms'], oda_gruplama['Price'])\n",
        "plt.xlabel('Oda Sayısı')\n",
        "plt.ylabel('Ortalama Fiyat')\n",
        "plt.title('Oda Sayısına Göre Ortalama Fiyat')\n",
        "plt.show()"
      ],
      "metadata": {
        "colab": {
          "base_uri": "https://localhost:8080/",
          "height": 564
        },
        "id": "pMXAg8nvv68k",
        "outputId": "499bcb68-04a6-42e3-9147-4e13e4db22c8"
      },
      "execution_count": 28,
      "outputs": [
        {
          "output_type": "display_data",
          "data": {
            "text/plain": [
              "<Figure size 1000x600 with 1 Axes>"
            ],
            "image/png": "[encoded data removed]"
          },
          "metadata": {}
        }
      ]
    }
  ]
}